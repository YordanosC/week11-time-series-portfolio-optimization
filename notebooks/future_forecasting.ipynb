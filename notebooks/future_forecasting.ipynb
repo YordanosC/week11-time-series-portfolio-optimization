{
  "cells": [
    {
      "cell_type": "markdown",
      "metadata": {
        "id": "_FikNT-K-35A"
      },
      "source": [
        "# Forecast Future Market Trends\n"
      ]
    },
    {
      "cell_type": "markdown",
      "metadata": {
        "id": "-cWP0QQY-35D"
      },
      "source": [
        "Based on the best models trained, will forcast the next 6-12 months of Tesla's price"
      ]
    },
    {
      "cell_type": "markdown",
      "metadata": {
        "id": "Cq1k-mUk-35F"
      },
      "source": [
        "First, import required libraries and script modules"
      ]
    },
    {
      "cell_type": "code",
      "execution_count": 1,
      "metadata": {
        "id": "hen6UB-8-35F"
      },
      "outputs": [],
      "source": [
        "# Import necessary libraries\n",
        "import pandas as pd\n",
        "import numpy as np\n",
        "import matplotlib.pyplot as plt\n",
        "import seaborn as sns\n",
        "\n",
        "import os, sys\n",
        "# Add the 'scripts' directory to the Python path for module imports\n",
        "sys.path.append(os.path.abspath(os.path.join('..', 'scripts')))\n",
        "\n",
        "# Set max rows and columns to display\n",
        "pd.set_option('display.max_columns', 200)\n",
        "pd.set_option('display.max_rows', 200)\n",
        "# Assuming this class is defined in scripts/\n",
        "from data_preprocessing import DataPreprocessor\n",
        "from future_forecasting import ModelForecaster\n",
        "# Set default figure size for all plots\n",
        "plt.rcParams['figure.figsize'] = (14, 7)"
      ]
    },
    {
      "cell_type": "markdown",
      "metadata": {
        "id": "lNoClfBd_5DL"
      },
      "source": [
        "**Loading the recent Tesla's Dataset**"
      ]
    },
    {
      "cell_type": "code",
      "execution_count": 3,
      "metadata": {
        "id": "cM6XaP0B_9zt"
      },
      "outputs": [],
      "source": [
        "# Initialize class instances\n",
        "path = '../data/'\n",
        "processor = DataPreprocessor(data_dir = path)\n",
        "\n",
        "# Load the data\n",
        "tsla_data = processor.load_data('TSLA')"
      ]
    },
    {
      "cell_type": "markdown",
      "metadata": {
        "id": "kgOHYd0bAy-s"
      },
      "source": [
        "Model Forcasting"
      ]
    },
    {
      "cell_type": "code",
      "execution_count": null,
      "metadata": {
        "colab": {
          "base_uri": "https://localhost:8080/",
          "height": 367
        },
        "id": "qiYgFNaIA2Mq",
        "outputId": "0a45f499-4a00-406e-89b2-4fe319b9f3ae"
      },
      "outputs": [
        {
          "ename": "NameError",
          "evalue": "name 'logger' is not defined",
          "output_type": "error",
          "traceback": [
            "\u001b[1;31m---------------------------------------------------------------------------\u001b[0m",
            "\u001b[1;31mNameError\u001b[0m                                 Traceback (most recent call last)",
            "Cell \u001b[1;32mIn[4], line 2\u001b[0m\n\u001b[0;32m      1\u001b[0m \u001b[38;5;66;03m# Initialize forecaster\u001b[39;00m\n\u001b[1;32m----> 2\u001b[0m forecaster \u001b[38;5;241m=\u001b[39m ModelForecaster(tsla_data, \u001b[38;5;124m'\u001b[39m\u001b[38;5;124mdata/tsla_forecast_12_months.csv\u001b[39m\u001b[38;5;124m'\u001b[39m, logger\u001b[38;5;241m=\u001b[39m\u001b[43mlogger\u001b[49m)\n\u001b[0;32m      4\u001b[0m \u001b[38;5;66;03m# Plot forecasts\u001b[39;00m\n\u001b[0;32m      5\u001b[0m forecaster\u001b[38;5;241m.\u001b[39mplot_forecast()\n",
            "\u001b[1;31mNameError\u001b[0m: name 'logger' is not defined"
          ]
        }
      ],
      "source": [
        "# Initialize forecaster\n",
        "forecaster = ModelForecaster(tsla_data, 'data/tsla_forecast_12_months.csv')\n",
        "# Plot forecasts\n",
        "forecaster.plot_forecast()\n"
      ]
    },
    {
      "cell_type": "code",
      "execution_count": null,
      "metadata": {
        "colab": {
          "base_uri": "https://localhost:8080/",
          "height": 352
        },
        "id": "WGbiy0KAc09j",
        "outputId": "90370a1d-e4c7-4cf0-b736-0ac49c2c86b3"
      },
      "outputs": [],
      "source": [
        "# Analyze forecasts\n",
        "result = forecaster.analyze_forecast()\n",
        "result"
      ]
    }
  ],
  "metadata": {
    "colab": {
      "provenance": []
    },
    "kernelspec": {
      "display_name": ".venv",
      "language": "python",
      "name": "python3"
    },
    "language_info": {
      "codemirror_mode": {
        "name": "ipython",
        "version": 3
      },
      "file_extension": ".py",
      "mimetype": "text/x-python",
      "name": "python",
      "nbconvert_exporter": "python",
      "pygments_lexer": "ipython3",
      "version": "3.12.8"
    }
  },
  "nbformat": 4,
  "nbformat_minor": 0
}
